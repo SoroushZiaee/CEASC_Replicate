{
 "cells": [
  {
   "cell_type": "code",
   "execution_count": 1,
   "id": "f1ec975f-ecde-4757-93d0-9a04d4effa4d",
   "metadata": {},
   "outputs": [],
   "source": [
    "from mmdet.models.task_modules.prior_generators import AnchorGenerator"
   ]
  },
  {
   "cell_type": "code",
   "execution_count": 2,
   "id": "25713022-5808-4419-b2aa-fbfd5c9a5cc4",
   "metadata": {},
   "outputs": [
    {
     "data": {
      "text/plain": [
       "\u001b[31mInit signature:\u001b[39m\n",
       "AnchorGenerator(\n",
       "    strides: Union[List[int], List[Tuple[int, int]]],\n",
       "    ratios: List[float],\n",
       "    scales: Optional[List[int]] = \u001b[38;5;28;01mNone\u001b[39;00m,\n",
       "    base_sizes: Optional[List[int]] = \u001b[38;5;28;01mNone\u001b[39;00m,\n",
       "    scale_major: bool = \u001b[38;5;28;01mTrue\u001b[39;00m,\n",
       "    octave_base_scale: Optional[int] = \u001b[38;5;28;01mNone\u001b[39;00m,\n",
       "    scales_per_octave: Optional[int] = \u001b[38;5;28;01mNone\u001b[39;00m,\n",
       "    centers: Optional[List[Tuple[float, float]]] = \u001b[38;5;28;01mNone\u001b[39;00m,\n",
       "    center_offset: float = \u001b[32m0.0\u001b[39m,\n",
       "    use_box_type: bool = \u001b[38;5;28;01mFalse\u001b[39;00m,\n",
       ") -> \u001b[38;5;28;01mNone\u001b[39;00m\n",
       "\u001b[31mDocstring:\u001b[39m     \n",
       "Standard anchor generator for 2D anchor-based detectors.\n",
       "\n",
       "Args:\n",
       "    strides (list[int] | list[tuple[int, int]]): Strides of anchors\n",
       "        in multiple feature levels in order (w, h).\n",
       "    ratios (list[float]): The list of ratios between the height and width\n",
       "        of anchors in a single level.\n",
       "    scales (list[int], Optional): Anchor scales for anchors\n",
       "        in a single level. It cannot be set at the same time\n",
       "        if `octave_base_scale` and `scales_per_octave` are set.\n",
       "    base_sizes (list[int], Optional): The basic sizes\n",
       "        of anchors in multiple levels.\n",
       "        If None is given, strides will be used as base_sizes.\n",
       "        (If strides are non square, the shortest stride is taken.)\n",
       "    scale_major (bool): Whether to multiply scales first when generating\n",
       "        base anchors. If true, the anchors in the same row will have the\n",
       "        same scales. By default it is True in V2.0\n",
       "    octave_base_scale (int, Optional): The base scale of octave.\n",
       "    scales_per_octave (int, Optional): Number of scales for each octave.\n",
       "        `octave_base_scale` and `scales_per_octave` are usually used in\n",
       "        retinanet and the `scales` should be None when they are set.\n",
       "    centers (list[tuple[float]], Optional): The centers of the anchor\n",
       "        relative to the feature grid center in multiple feature levels.\n",
       "        By default it is set to be None and not used. If a list of tuple of\n",
       "        float is given, they will be used to shift the centers of anchors.\n",
       "    center_offset (float): The offset of center in proportion to anchors'\n",
       "        width and height. By default it is 0 in V2.0.\n",
       "    use_box_type (bool): Whether to warp anchors with the box type data\n",
       "        structure. Defaults to False.\n",
       "\n",
       "Examples:\n",
       "    >>> from mmdet.models.task_modules.\n",
       "    ... prior_generators import AnchorGenerator\n",
       "    >>> self = AnchorGenerator([16], [1.], [1.], [9])\n",
       "    >>> all_anchors = self.grid_priors([(2, 2)], device='cpu')\n",
       "    >>> print(all_anchors)\n",
       "    [tensor([[-4.5000, -4.5000,  4.5000,  4.5000],\n",
       "            [11.5000, -4.5000, 20.5000,  4.5000],\n",
       "            [-4.5000, 11.5000,  4.5000, 20.5000],\n",
       "            [11.5000, 11.5000, 20.5000, 20.5000]])]\n",
       "    >>> self = AnchorGenerator([16, 32], [1.], [1.], [9, 18])\n",
       "    >>> all_anchors = self.grid_priors([(2, 2), (1, 1)], device='cpu')\n",
       "    >>> print(all_anchors)\n",
       "    [tensor([[-4.5000, -4.5000,  4.5000,  4.5000],\n",
       "            [11.5000, -4.5000, 20.5000,  4.5000],\n",
       "            [-4.5000, 11.5000,  4.5000, 20.5000],\n",
       "            [11.5000, 11.5000, 20.5000, 20.5000]]),         tensor([[-9., -9., 9., 9.]])]\n",
       "\u001b[31mFile:\u001b[39m           /lustre06/project/6067616/soroush1/CEASC_Replicate/.venv/lib/python3.11/site-packages/mmdet/models/task_modules/prior_generators/anchor_generator.py\n",
       "\u001b[31mType:\u001b[39m           type\n",
       "\u001b[31mSubclasses:\u001b[39m     SSDAnchorGenerator, LegacyAnchorGenerator, YOLOAnchorGenerator"
      ]
     },
     "metadata": {},
     "output_type": "display_data"
    }
   ],
   "source": [
    "AnchorGenerator?"
   ]
  },
  {
   "cell_type": "code",
   "execution_count": 3,
   "id": "afdc7187-c0d2-494e-b025-350bd43b4a32",
   "metadata": {},
   "outputs": [],
   "source": [
    "prior_generator = AnchorGenerator(\n",
    "    strides=[4, 8, 16, 32, 64],       # Updated to match your output shapes\n",
    "    ratios=[1.0],                    # Default square boxes (can be tuned)\n",
    "    scales=[8],                      # Single scale per level (tune if needed)\n",
    "    base_sizes=[16, 32, 64, 128, 256]  # Reasonable anchor sizes matching stride * scale\n",
    ")"
   ]
  },
  {
   "cell_type": "code",
   "execution_count": 4,
   "id": "d4324fa4-0c3e-4ff3-91dd-ee24357867e8",
   "metadata": {},
   "outputs": [
    {
     "name": "stdout",
     "output_type": "stream",
     "text": [
      "P3 Anchors shape: torch.Size([16384, 4])\n",
      "P4 Anchors shape: torch.Size([4096, 4])\n",
      "P5 Anchors shape: torch.Size([1024, 4])\n",
      "P6 Anchors shape: torch.Size([256, 4])\n",
      "P7 Anchors shape: torch.Size([64, 4])\n"
     ]
    }
   ],
   "source": [
    "featmap_sizes = [(128, 128), (64, 64), (32, 32), (16, 16), (8, 8)]\n",
    "\n",
    "# Step 1: Define the AnchorGenerator as per your CEASC model\n",
    "prior_generator = AnchorGenerator(\n",
    "    strides=[4, 8, 16, 32, 64],\n",
    "    ratios=[1.0],                     # square anchors\n",
    "    scales=[8],                      # single scale\n",
    "    base_sizes=[16, 32, 64, 128, 256]  # one per level\n",
    ")\n",
    "\n",
    "# Step 2: Generate anchors\n",
    "mlvl_anchors = prior_generator.grid_priors(featmap_sizes, device=\"cpu\")\n",
    "\n",
    "# Step 3: Inspect output\n",
    "for i, anchors in enumerate(mlvl_anchors):\n",
    "    print(f\"P{i+3} Anchors shape: {anchors.shape}\")"
   ]
  }
 ],
 "metadata": {
  "kernelspec": {
   "display_name": "Python 3 (ipykernel)",
   "language": "python",
   "name": "python3"
  },
  "language_info": {
   "codemirror_mode": {
    "name": "ipython",
    "version": 3
   },
   "file_extension": ".py",
   "mimetype": "text/x-python",
   "name": "python",
   "nbconvert_exporter": "python",
   "pygments_lexer": "ipython3",
   "version": "3.11.4"
  }
 },
 "nbformat": 4,
 "nbformat_minor": 5
}
