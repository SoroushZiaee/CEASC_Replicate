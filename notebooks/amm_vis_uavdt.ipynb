{
 "cells": [
  {
   "cell_type": "code",
   "execution_count": null,
   "id": "e3cd1d23-2bd9-4f4d-9b85-49f5c05e222b",
   "metadata": {},
   "outputs": [],
   "source": [
    "# notebook for visualizing AMM masks for UAVDT image "
   ]
  },
  {
   "cell_type": "code",
   "execution_count": 2,
   "id": "7f7d0f5b-c4f8-49c5-8e70-9064d34d9d4c",
   "metadata": {},
   "outputs": [],
   "source": [
    "import pickle"
   ]
  },
  {
   "cell_type": "code",
   "execution_count": null,
   "id": "a39ae579-42e1-4713-974b-6862a25849ff",
   "metadata": {},
   "outputs": [],
   "source": [
    "with open(\"uavdt_masks.pickle\",\"rb\") as f:\n",
    "    vis_dict = pickle.load(f)"
   ]
  },
  {
   "cell_type": "code",
   "execution_count": null,
   "id": "0517943d-8b7b-4acd-9f00-21383d50bbb8",
   "metadata": {},
   "outputs": [],
   "source": []
  }
 ],
 "metadata": {
  "kernelspec": {
   "display_name": "Python 3 (ipykernel)",
   "language": "python",
   "name": "python3"
  },
  "language_info": {
   "codemirror_mode": {
    "name": "ipython",
    "version": 3
   },
   "file_extension": ".py",
   "mimetype": "text/x-python",
   "name": "python",
   "nbconvert_exporter": "python",
   "pygments_lexer": "ipython3",
   "version": "3.11.5"
  }
 },
 "nbformat": 4,
 "nbformat_minor": 5
}
