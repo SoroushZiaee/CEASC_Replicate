{
 "cells": [
  {
   "cell_type": "code",
   "execution_count": 1,
   "id": "d9dbeb31",
   "metadata": {},
   "outputs": [
    {
     "ename": "ModuleNotFoundError",
     "evalue": "No module named 'mmengine'",
     "output_type": "error",
     "traceback": [
      "\u001b[31m---------------------------------------------------------------------------\u001b[39m",
      "\u001b[31mModuleNotFoundError\u001b[39m                       Traceback (most recent call last)",
      "\u001b[36mCell\u001b[39m\u001b[36m \u001b[39m\u001b[32mIn[1]\u001b[39m\u001b[32m, line 13\u001b[39m\n\u001b[32m     10\u001b[39m \u001b[38;5;28;01mfrom\u001b[39;00m\u001b[38;5;250m \u001b[39m\u001b[34;01mtorchvision\u001b[39;00m\u001b[38;5;250m \u001b[39m\u001b[38;5;28;01mimport\u001b[39;00m transforms\n\u001b[32m     11\u001b[39m \u001b[38;5;28;01mfrom\u001b[39;00m\u001b[38;5;250m \u001b[39m\u001b[34;01mtqdm\u001b[39;00m\u001b[38;5;250m \u001b[39m\u001b[38;5;28;01mimport\u001b[39;00m tqdm\n\u001b[32m---> \u001b[39m\u001b[32m13\u001b[39m \u001b[38;5;28;01mfrom\u001b[39;00m\u001b[38;5;250m \u001b[39m\u001b[34;01mmodels\u001b[39;00m\u001b[38;5;250m \u001b[39m\u001b[38;5;28;01mimport\u001b[39;00m Res18FPNCEASC  \u001b[38;5;66;03m# Adjust as needed\u001b[39;00m\n\u001b[32m     14\u001b[39m \u001b[38;5;28;01mfrom\u001b[39;00m\u001b[38;5;250m \u001b[39m\u001b[34;01mutils\u001b[39;00m\u001b[34;01m.\u001b[39;00m\u001b[34;01muavdt_dataloader\u001b[39;00m\u001b[38;5;250m \u001b[39m\u001b[38;5;28;01mimport\u001b[39;00m get_dataset\n\u001b[32m     15\u001b[39m \u001b[38;5;28;01mfrom\u001b[39;00m\u001b[38;5;250m \u001b[39m\u001b[34;01mutils\u001b[39;00m\u001b[34;01m.\u001b[39;00m\u001b[34;01mlosses\u001b[39;00m\u001b[38;5;250m \u001b[39m\u001b[38;5;28;01mimport\u001b[39;00m Lnorm, Lamm  \u001b[38;5;66;03m# Adjust as needed\u001b[39;00m\n",
      "\u001b[36mFile \u001b[39m\u001b[32m/lustre06/project/6067616/eyakub/CEASC_Replicate/notebooks/../models/__init__.py:1\u001b[39m\n\u001b[32m----> \u001b[39m\u001b[32m1\u001b[39m \u001b[38;5;28;01mfrom\u001b[39;00m\u001b[38;5;250m \u001b[39m\u001b[34;01m.\u001b[39;00m\u001b[34;01mbackbone\u001b[39;00m\u001b[34;01m.\u001b[39;00m\u001b[34;01mgfl_v1_fpn\u001b[39;00m\u001b[38;5;250m \u001b[39m\u001b[38;5;28;01mimport\u001b[39;00m *\n\u001b[32m      2\u001b[39m \u001b[38;5;28;01mfrom\u001b[39;00m\u001b[38;5;250m \u001b[39m\u001b[34;01m.\u001b[39;00m\u001b[34;01mmodules\u001b[39;00m\u001b[34;01m.\u001b[39;00m\u001b[34;01mamm\u001b[39;00m\u001b[38;5;250m \u001b[39m\u001b[38;5;28;01mimport\u001b[39;00m *\n\u001b[32m      3\u001b[39m \u001b[38;5;28;01mfrom\u001b[39;00m\u001b[38;5;250m \u001b[39m\u001b[34;01m.\u001b[39;00m\u001b[34;01mmodules\u001b[39;00m\u001b[34;01m.\u001b[39;00m\u001b[34;01mceasc\u001b[39;00m\u001b[38;5;250m \u001b[39m\u001b[38;5;28;01mimport\u001b[39;00m *\n",
      "\u001b[36mFile \u001b[39m\u001b[32m/lustre06/project/6067616/eyakub/CEASC_Replicate/notebooks/../models/backbone/gfl_v1_fpn.py:3\u001b[39m\n\u001b[32m      1\u001b[39m \u001b[38;5;28;01mimport\u001b[39;00m\u001b[38;5;250m \u001b[39m\u001b[34;01mtorch\u001b[39;00m\n\u001b[32m      2\u001b[39m \u001b[38;5;28;01mimport\u001b[39;00m\u001b[38;5;250m \u001b[39m\u001b[34;01mtorch\u001b[39;00m\u001b[34;01m.\u001b[39;00m\u001b[34;01mnn\u001b[39;00m\u001b[38;5;250m \u001b[39m\u001b[38;5;28;01mas\u001b[39;00m\u001b[38;5;250m \u001b[39m\u001b[34;01mnn\u001b[39;00m\n\u001b[32m----> \u001b[39m\u001b[32m3\u001b[39m \u001b[38;5;28;01mfrom\u001b[39;00m\u001b[38;5;250m \u001b[39m\u001b[34;01mmmengine\u001b[39;00m\u001b[34;01m.\u001b[39;00m\u001b[34;01mconfig\u001b[39;00m\u001b[38;5;250m \u001b[39m\u001b[38;5;28;01mimport\u001b[39;00m Config\n\u001b[32m      4\u001b[39m \u001b[38;5;28;01mfrom\u001b[39;00m\u001b[38;5;250m \u001b[39m\u001b[34;01mmmdet\u001b[39;00m\u001b[34;01m.\u001b[39;00m\u001b[34;01mregistry\u001b[39;00m\u001b[38;5;250m \u001b[39m\u001b[38;5;28;01mimport\u001b[39;00m MODELS\n\u001b[32m      7\u001b[39m \u001b[38;5;28;01mclass\u001b[39;00m\u001b[38;5;250m \u001b[39m\u001b[34;01mResNet18FPN\u001b[39;00m(nn.Module):\n",
      "\u001b[31mModuleNotFoundError\u001b[39m: No module named 'mmengine'"
     ]
    }
   ],
   "source": [
    "import sys\n",
    "import os\n",
    "\n",
    "# # add parent directory, it should add parent of parent\n",
    "sys.path.append(\"..\")\n",
    "\n",
    "import torch\n",
    "from torch import nn, optim\n",
    "\n",
    "from torchvision import transforms\n",
    "from tqdm import tqdm\n",
    "\n",
    "from models import Res18FPNCEASC  # Adjust as needed\n",
    "from utils.uavdt_dataloader import get_dataset\n",
    "from utils.losses import Lnorm, Lamm  # Adjust as needed"
   ]
  },
  {
   "cell_type": "code",
   "execution_count": null,
   "id": "29c3fa82",
   "metadata": {},
   "outputs": [],
   "source": [
    "def safe_shape(x):\n",
    "    if isinstance(x, torch.Tensor):\n",
    "        return x.shape\n",
    "    elif isinstance(x, (list, tuple)):\n",
    "        return [safe_shape(e) for e in x]\n",
    "    return type(x)"
   ]
  },
  {
   "cell_type": "code",
   "execution_count": 2,
   "id": "88b53af8",
   "metadata": {},
   "outputs": [],
   "source": [
    "def train(config):\n",
    "    # Unpack config\n",
    "    root_dir = config[\"root_dir\"]\n",
    "    batch_size = config[\"batch_size\"]\n",
    "    num_workers = config[\"num_workers\"]\n",
    "    num_epochs = config[\"num_epochs\"]\n",
    "    learning_rate = config[\"lr\"]\n",
    "    device = torch.device(\"cuda\" if torch.cuda.is_available() else \"cpu\")\n",
    "\n",
    "    # Dataset and loader\n",
    "    dataloader = get_dataset(\n",
    "        root_dir=root_dir,\n",
    "        split=\"train\",\n",
    "        transform=None,\n",
    "        batch_size=batch_size,\n",
    "        shuffle=True,\n",
    "        num_workers=num_workers,\n",
    "    )\n",
    "\n",
    "    # Model\n",
    "    model = Res18FPNCEASC(config_path=config[\"config_path\"], num_classes=10)\n",
    "    model.to(device)\n",
    "    model.train()\n",
    "\n",
    "    # Optimizer\n",
    "    optimizer = optim.SGD(model.parameters(), lr=learning_rate)  # NOTE: Adam was not used in the paper\n",
    "\n",
    "    # Losses\n",
    "    l_norm = Lnorm()\n",
    "    l_amm = Lamm()\n",
    "\n",
    "    for epoch in range(num_epochs):\n",
    "        total_loss = 0.0\n",
    "        progress_bar = tqdm(dataloader, desc=f\"Epoch {epoch + 1}/{num_epochs}\")\n",
    "\n",
    "        for batch in progress_bar:\n",
    "            images = batch[\"image\"].to(device)\n",
    "            targets = {\n",
    "                \"boxes\": batch[\"boxes\"],\n",
    "                \"labels\": batch[\"labels\"],\n",
    "                \"image_id\": batch[\"image_id\"],\n",
    "                \"orig_size\": batch[\"orig_size\"],\n",
    "            }\n",
    "            print(\"\\n🔍 Inspecting `targets` structure:\")\n",
    "            for i in range(len(targets[\"boxes\"])):\n",
    "                print(f\"--- Sample {i} ---\")\n",
    "                print(f\"Image ID:         {targets['image_id'][i]}\")\n",
    "                print(f\"Original Size:    {targets['orig_size'][i]}\")\n",
    "                print(f\"Boxes shape:      {targets['boxes'][i].shape}\")  # [N_i, 4]\n",
    "                print(f\"Labels shape:     {targets['labels'][i].shape}\")  # [N_i]\n",
    "                print(f\"Boxes:            {targets['boxes'][i]}\")\n",
    "                print(f\"Labels:           {targets['labels'][i]}\")\n",
    "\n",
    "            # Forward pass\n",
    "            outputs = model(images, stage=\"train\")\n",
    "            (\n",
    "                cls_outs,\n",
    "                reg_outs,\n",
    "                cls_soft_mask_outs,\n",
    "                reg_soft_mask_outs,\n",
    "                sparse_cls_feats_outs,\n",
    "                sparse_reg_feats_outs,\n",
    "                dense_cls_feats_outs,\n",
    "                dense_reg_feats_outs,\n",
    "                feats,\n",
    "                anchors,\n",
    "            ) = outputs\n",
    "\n",
    "            print(\"\\n🔍 Output shapes from model:\")\n",
    "            for i in range(len(cls_outs)):\n",
    "                print(f\"--- FPN Level {i} ---\")\n",
    "                print(f\"cls_outs[{i}]:              {safe_shape(cls_outs[i])}\")\n",
    "                print(f\"reg_outs[{i}]:              {safe_shape(reg_outs[i])}\")\n",
    "                print(\n",
    "                    f\"cls_soft_mask_outs[{i}]:    {safe_shape(cls_soft_mask_outs[i])}\"\n",
    "                )\n",
    "                print(\n",
    "                    f\"reg_soft_mask_outs[{i}]:    {safe_shape(reg_soft_mask_outs[i])}\"\n",
    "                )\n",
    "                print(\n",
    "                    f\"sparse_cls_feats[{i}]:      {safe_shape(sparse_cls_feats_outs[i])}\"\n",
    "                )\n",
    "                print(\n",
    "                    f\"sparse_reg_feats[{i}]:      {safe_shape(sparse_reg_feats_outs[i])}\"\n",
    "                )\n",
    "                print(\n",
    "                    f\"dense_cls_feats[{i}]:       {safe_shape(dense_cls_feats_outs[i])}\"\n",
    "                )\n",
    "                print(\n",
    "                    f\"dense_reg_feats[{i}]:       {safe_shape(dense_reg_feats_outs[i])}\"\n",
    "                )\n",
    "                print(f\"feats[{i}]:                 {safe_shape(feats[i])}\")\n",
    "\n",
    "            for i, anchor in enumerate(anchors):\n",
    "                print(f\"P{i+3} Anchors shape: {anchor.shape}\")\n",
    "\n",
    "            loss_norm = l_norm(\n",
    "                sparse_cls_feats_outs, cls_soft_mask_outs, dense_cls_feats_outs\n",
    "            )\n",
    "\n",
    "            loss_amm = l_amm(\n",
    "                targets[\"boxes\"], reg_soft_mask_outs\n",
    "            )  # used the soft masks in this version, might be incorrect\n",
    "\n",
    "            print(f\"Loss Norm: {loss_norm.item()}\")\n",
    "            print(f\"Loss AMM: {loss_amm.item()}\")\n",
    "\n",
    "            # Calculate loss — you must define this to fit CEASC\n",
    "            # loss = ceasc_loss(outputs, targets)  # Custom function required\n",
    "            # loss = 0.0\n",
    "            # # make the loss a torch tensor\n",
    "            # loss = torch.tensor(loss, dtype=torch.float32).to(device)\n",
    "\n",
    "            # optimizer.zero_grad()\n",
    "            # # loss.backward()\n",
    "            # optimizer.step()\n",
    "\n",
    "            # # total_loss += loss.item()\n",
    "            # progress_bar.set_postfix(loss=loss.item())\n",
    "            break\n",
    "\n",
    "        print(f\"Epoch {epoch + 1}: Total Loss = {total_loss:.4f}\")\n",
    "\n",
    "    # Save model\n",
    "    # torch.save(model.state_dict(), \"weights/ceasc_final.pth\")"
   ]
  },
  {
   "cell_type": "code",
   "execution_count": null,
   "id": "0d793d9b",
   "metadata": {},
   "outputs": [],
   "source": []
  },
  {
   "cell_type": "code",
   "execution_count": 14,
   "id": "11b2bd1a-9691-40c7-943f-85290921facd",
   "metadata": {},
   "outputs": [
    {
     "name": "stdout",
     "output_type": "stream",
     "text": [
      "/lustre06/project/6067616/eyakub/CEASC_Replicate/notebooks\n"
     ]
    }
   ],
   "source": [
    "!pwd"
   ]
  },
  {
   "cell_type": "code",
   "execution_count": 3,
   "id": "37192c77-40cd-4f9e-a3cf-d936251d5922",
   "metadata": {},
   "outputs": [
    {
     "name": "stdout",
     "output_type": "stream",
     "text": [
      "/lustre06/project/6067616/eyakub/CEASC_Replicate/.venv/bin/python\n"
     ]
    }
   ],
   "source": [
    "!which python"
   ]
  },
  {
   "cell_type": "code",
   "execution_count": 4,
   "id": "7157a513-06c6-4a5e-840c-7f72faca7c6f",
   "metadata": {},
   "outputs": [
    {
     "name": "stdout",
     "output_type": "stream",
     "text": [
      "/lustre06/project/6067616/eyakub/CEASC_Replicate/.venv/bin/pip\n"
     ]
    }
   ],
   "source": [
    "!which pip"
   ]
  },
  {
   "cell_type": "code",
   "execution_count": null,
   "id": "533fd0fc-09af-4bcc-b69f-014aba333181",
   "metadata": {},
   "outputs": [],
   "source": []
  }
 ],
 "metadata": {
  "kernelspec": {
   "display_name": "Python 3 (ipykernel)",
   "language": "python",
   "name": "python3"
  },
  "language_info": {
   "codemirror_mode": {
    "name": "ipython",
    "version": 3
   },
   "file_extension": ".py",
   "mimetype": "text/x-python",
   "name": "python",
   "nbconvert_exporter": "python",
   "pygments_lexer": "ipython3",
   "version": "3.11.5"
  }
 },
 "nbformat": 4,
 "nbformat_minor": 5
}
